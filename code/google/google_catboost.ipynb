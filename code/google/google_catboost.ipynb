{
  "cells": [
    {
      "cell_type": "code",
      "execution_count": 1,
      "metadata": {
        "colab": {
          "base_uri": "https://localhost:8080/"
        },
        "id": "jqFvj6XbZXkA",
        "outputId": "cd3494f7-0b88-478f-fc6b-bcb5323716a7"
      },
      "outputs": [
        {
          "output_type": "stream",
          "name": "stdout",
          "text": [
            "Collecting catboost\n",
            "  Downloading catboost-1.2.5-cp310-cp310-manylinux2014_x86_64.whl (98.2 MB)\n",
            "\u001b[2K     \u001b[90m━━━━━━━━━━━━━━━━━━━━━━━━━━━━━━━━━━━━━━━━\u001b[0m \u001b[32m98.2/98.2 MB\u001b[0m \u001b[31m6.5 MB/s\u001b[0m eta \u001b[36m0:00:00\u001b[0m\n",
            "\u001b[?25hRequirement already satisfied: graphviz in /usr/local/lib/python3.10/dist-packages (from catboost) (0.20.3)\n",
            "Requirement already satisfied: matplotlib in /usr/local/lib/python3.10/dist-packages (from catboost) (3.7.1)\n",
            "Requirement already satisfied: numpy>=1.16.0 in /usr/local/lib/python3.10/dist-packages (from catboost) (1.25.2)\n",
            "Requirement already satisfied: pandas>=0.24 in /usr/local/lib/python3.10/dist-packages (from catboost) (2.0.3)\n",
            "Requirement already satisfied: scipy in /usr/local/lib/python3.10/dist-packages (from catboost) (1.11.4)\n",
            "Requirement already satisfied: plotly in /usr/local/lib/python3.10/dist-packages (from catboost) (5.15.0)\n",
            "Requirement already satisfied: six in /usr/local/lib/python3.10/dist-packages (from catboost) (1.16.0)\n",
            "Requirement already satisfied: python-dateutil>=2.8.2 in /usr/local/lib/python3.10/dist-packages (from pandas>=0.24->catboost) (2.8.2)\n",
            "Requirement already satisfied: pytz>=2020.1 in /usr/local/lib/python3.10/dist-packages (from pandas>=0.24->catboost) (2023.4)\n",
            "Requirement already satisfied: tzdata>=2022.1 in /usr/local/lib/python3.10/dist-packages (from pandas>=0.24->catboost) (2024.1)\n",
            "Requirement already satisfied: contourpy>=1.0.1 in /usr/local/lib/python3.10/dist-packages (from matplotlib->catboost) (1.2.1)\n",
            "Requirement already satisfied: cycler>=0.10 in /usr/local/lib/python3.10/dist-packages (from matplotlib->catboost) (0.12.1)\n",
            "Requirement already satisfied: fonttools>=4.22.0 in /usr/local/lib/python3.10/dist-packages (from matplotlib->catboost) (4.53.1)\n",
            "Requirement already satisfied: kiwisolver>=1.0.1 in /usr/local/lib/python3.10/dist-packages (from matplotlib->catboost) (1.4.5)\n",
            "Requirement already satisfied: packaging>=20.0 in /usr/local/lib/python3.10/dist-packages (from matplotlib->catboost) (24.1)\n",
            "Requirement already satisfied: pillow>=6.2.0 in /usr/local/lib/python3.10/dist-packages (from matplotlib->catboost) (9.4.0)\n",
            "Requirement already satisfied: pyparsing>=2.3.1 in /usr/local/lib/python3.10/dist-packages (from matplotlib->catboost) (3.1.2)\n",
            "Requirement already satisfied: tenacity>=6.2.0 in /usr/local/lib/python3.10/dist-packages (from plotly->catboost) (8.5.0)\n",
            "Installing collected packages: catboost\n",
            "Successfully installed catboost-1.2.5\n"
          ]
        }
      ],
      "source": [
        "pip install catboost"
      ]
    },
    {
      "cell_type": "code",
      "execution_count": 2,
      "metadata": {
        "id": "U2eTQ4cS9lG4"
      },
      "outputs": [],
      "source": [
        "import pandas as pd\n",
        "import numpy as np\n",
        "import matplotlib.pyplot as plt\n",
        "import seaborn as sns\n",
        "from sklearn.metrics import mean_absolute_error, mean_squared_error\n",
        "from catboost import CatBoostRegressor\n",
        "from sklearn.model_selection import train_test_split, GridSearchCV"
      ]
    },
    {
      "cell_type": "code",
      "execution_count": 3,
      "metadata": {
        "id": "c1xizaLm9nW6"
      },
      "outputs": [],
      "source": [
        "# Load the training and testing data\n",
        "train_path = '/content/Google_train_data.csv'\n",
        "test_path = '/content/Google_test_data.csv'\n",
        "train_data = pd.read_csv(train_path)\n",
        "test_data = pd.read_csv(test_path)"
      ]
    },
    {
      "cell_type": "code",
      "execution_count": 4,
      "metadata": {
        "colab": {
          "base_uri": "https://localhost:8080/"
        },
        "id": "I12WSS3b9sJb",
        "outputId": "cfdf26a4-e205-4a2f-eab8-eb37d08a9917"
      },
      "outputs": [
        {
          "output_type": "stream",
          "name": "stdout",
          "text": [
            "Training data types:\n",
            " Date       object\n",
            "Open      float64\n",
            "High      float64\n",
            "Low       float64\n",
            "Close      object\n",
            "Volume     object\n",
            "dtype: object\n",
            "Testing data types:\n",
            " Date          object\n",
            "Open         float64\n",
            "High         float64\n",
            "Low          float64\n",
            "Close        float64\n",
            "Adj Close    float64\n",
            "Volume         int64\n",
            "dtype: object\n"
          ]
        }
      ],
      "source": [
        "# Debugging: Check the data types of the columns\n",
        "print(\"Training data types:\\n\", train_data.dtypes)\n",
        "print(\"Testing data types:\\n\", test_data.dtypes)"
      ]
    },
    {
      "cell_type": "code",
      "execution_count": 5,
      "metadata": {
        "id": "GffeO9vW9xVl"
      },
      "outputs": [],
      "source": [
        "# Preprocess the data\n",
        "def preprocess_data(data):\n",
        "    # Check and convert the 'Volume' and 'Close' columns to strings if they are not already\n",
        "    if data['Volume'].dtype != 'object':\n",
        "        data['Volume'] = data['Volume'].astype(str)\n",
        "    if data['Close'].dtype != 'object':\n",
        "        data['Close'] = data['Close'].astype(str)\n",
        "\n",
        "    # Remove commas and convert to float\n",
        "    data['Volume'] = data['Volume'].str.replace(',', '').astype(float)\n",
        "    data['Close'] = data['Close'].str.replace(',', '').astype(float)\n",
        "    data = data.drop(columns=['Date'])\n",
        "\n",
        "    # Feature Engineering: Add moving averages\n",
        "    data['SMA_10'] = data['Close'].rolling(window=10).mean()\n",
        "    data['SMA_50'] = data['Close'].rolling(window=50).mean()\n",
        "\n",
        "    # Feature Engineering: Add more technical indicators\n",
        "    data['EMA_10'] = data['Close'].ewm(span=10, adjust=False).mean()\n",
        "    data['EMA_50'] = data['Close'].ewm(span=50, adjust=False).mean()\n",
        "    data['Price_Range'] = data['High'] - data['Low']\n",
        "    data['Price_Change'] = data['Close'] - data['Open']\n",
        "    data['Rolling_STD_10'] = data['Close'].rolling(window=10).std()\n",
        "    data['Rolling_STD_50'] = data['Close'].rolling(window=50).std()\n",
        "\n",
        "    # Fill NaN values that were introduced by rolling\n",
        "    data = data.fillna(0)\n",
        "\n",
        "    return data"
      ]
    },
    {
      "cell_type": "code",
      "execution_count": 6,
      "metadata": {
        "id": "AY6yrZzO93jw"
      },
      "outputs": [],
      "source": [
        "# Apply preprocessing to the data\n",
        "train_data = preprocess_data(train_data)\n",
        "test_data = preprocess_data(test_data)"
      ]
    },
    {
      "cell_type": "code",
      "execution_count": 7,
      "metadata": {
        "colab": {
          "base_uri": "https://localhost:8080/"
        },
        "id": "ZDEdzTdZ95Ba",
        "outputId": "7fbdfb40-dfb3-4862-a436-db24c48cc23f"
      },
      "outputs": [
        {
          "output_type": "stream",
          "name": "stdout",
          "text": [
            "Processed training data:\n",
            "      Open    High     Low   Close      Volume  SMA_10  SMA_50      EMA_10  \\\n",
            "0  325.25  332.83  324.97  663.59   7380500.0     0.0     0.0  663.590000   \n",
            "1  331.27  333.87  329.08  666.45   5749400.0     0.0     0.0  664.110000   \n",
            "2  329.83  330.75  326.89  657.21   6590300.0     0.0     0.0  662.855455   \n",
            "3  328.34  328.77  323.68  648.24   5405900.0     0.0     0.0  660.198099   \n",
            "4  322.04  322.29  309.46  620.76  11688800.0     0.0     0.0  653.027536   \n",
            "\n",
            "       EMA_50  Price_Range  Price_Change  Rolling_STD_10  Rolling_STD_50  \n",
            "0  663.590000         7.86        338.34             0.0             0.0  \n",
            "1  663.702157         4.79        335.18             0.0             0.0  \n",
            "2  663.447562         3.86        327.38             0.0             0.0  \n",
            "3  662.851187         5.09        319.90             0.0             0.0  \n",
            "4  661.200553        12.83        298.72             0.0             0.0  \n",
            "Processed testing data:\n",
            "           Open         High          Low        Close    Adj Close     Volume  \\\n",
            "0  1236.979980  1249.272949  1233.640991  1235.010010  1235.010010   997300.0   \n",
            "1  1235.189941  1245.869995  1225.109985  1242.099976  1242.099976  1348100.0   \n",
            "2  1229.260010  1235.239990  1209.510010  1214.380005  1214.380005  1828800.0   \n",
            "3  1224.729980  1226.000000  1202.550049  1206.489990  1206.489990  1343200.0   \n",
            "4  1202.030029  1209.020020  1188.239990  1200.959961  1200.959961  1389600.0   \n",
            "\n",
            "   SMA_10  SMA_50       EMA_10       EMA_50  Price_Range  Price_Change  \\\n",
            "0     0.0     0.0  1235.010010  1235.010010    15.631958     -1.969970   \n",
            "1     0.0     0.0  1236.299095  1235.288048    20.760010      6.910035   \n",
            "2     0.0     0.0  1232.313806  1234.468125    25.729980    -14.880005   \n",
            "3     0.0     0.0  1227.618566  1233.370943    23.449951    -18.239990   \n",
            "4     0.0     0.0  1222.771547  1232.099924    20.780030     -1.070068   \n",
            "\n",
            "   Rolling_STD_10  Rolling_STD_50  \n",
            "0             0.0             0.0  \n",
            "1             0.0             0.0  \n",
            "2             0.0             0.0  \n",
            "3             0.0             0.0  \n",
            "4             0.0             0.0  \n"
          ]
        }
      ],
      "source": [
        "# Verify preprocessing\n",
        "print(\"Processed training data:\\n\", train_data.head())\n",
        "print(\"Processed testing data:\\n\", test_data.head())"
      ]
    },
    {
      "cell_type": "code",
      "execution_count": 8,
      "metadata": {
        "id": "cSqK8mhN961J"
      },
      "outputs": [],
      "source": [
        "# Separate features and target variable in training data\n",
        "X_train = train_data.drop(columns=['Close'])\n",
        "y_train = train_data['Close']"
      ]
    },
    {
      "cell_type": "code",
      "execution_count": 9,
      "metadata": {
        "id": "uyr86xZV99nH"
      },
      "outputs": [],
      "source": [
        "# Separate features and target variable in testing data\n",
        "X_test = test_data.drop(columns=['Close', 'Adj Close'])\n",
        "y_test = test_data['Close']"
      ]
    },
    {
      "cell_type": "code",
      "execution_count": 10,
      "metadata": {
        "id": "QNFWtAPT9_vo"
      },
      "outputs": [],
      "source": [
        "# Split training data into training and validation sets\n",
        "X_train_split, X_val_split, y_train_split, y_val_split = train_test_split(X_train, y_train, test_size=0.2, random_state=42)"
      ]
    },
    {
      "cell_type": "code",
      "execution_count": 11,
      "metadata": {
        "colab": {
          "base_uri": "https://localhost:8080/",
          "height": 135
        },
        "id": "RRmSQ1Do-Ctq",
        "outputId": "3c0a2ae5-e532-4453-dae5-6fb8b2f4b933"
      },
      "outputs": [
        {
          "output_type": "stream",
          "name": "stdout",
          "text": [
            "Fitting 3 folds for each of 180 candidates, totalling 540 fits\n"
          ]
        },
        {
          "output_type": "execute_result",
          "data": {
            "text/plain": [
              "GridSearchCV(cv=3,\n",
              "             estimator=<catboost.core.CatBoostRegressor object at 0x7d8058bd82b0>,\n",
              "             n_jobs=-1,\n",
              "             param_grid={'depth': [4, 6, 8, 10],\n",
              "                         'iterations': [500, 1000, 1500],\n",
              "                         'l2_leaf_reg': [1, 3, 5, 7, 9],\n",
              "                         'learning_rate': [0.01, 0.05, 0.1]},\n",
              "             scoring='neg_mean_squared_error', verbose=2)"
            ],
            "text/html": [
              "<style>#sk-container-id-1 {color: black;background-color: white;}#sk-container-id-1 pre{padding: 0;}#sk-container-id-1 div.sk-toggleable {background-color: white;}#sk-container-id-1 label.sk-toggleable__label {cursor: pointer;display: block;width: 100%;margin-bottom: 0;padding: 0.3em;box-sizing: border-box;text-align: center;}#sk-container-id-1 label.sk-toggleable__label-arrow:before {content: \"▸\";float: left;margin-right: 0.25em;color: #696969;}#sk-container-id-1 label.sk-toggleable__label-arrow:hover:before {color: black;}#sk-container-id-1 div.sk-estimator:hover label.sk-toggleable__label-arrow:before {color: black;}#sk-container-id-1 div.sk-toggleable__content {max-height: 0;max-width: 0;overflow: hidden;text-align: left;background-color: #f0f8ff;}#sk-container-id-1 div.sk-toggleable__content pre {margin: 0.2em;color: black;border-radius: 0.25em;background-color: #f0f8ff;}#sk-container-id-1 input.sk-toggleable__control:checked~div.sk-toggleable__content {max-height: 200px;max-width: 100%;overflow: auto;}#sk-container-id-1 input.sk-toggleable__control:checked~label.sk-toggleable__label-arrow:before {content: \"▾\";}#sk-container-id-1 div.sk-estimator input.sk-toggleable__control:checked~label.sk-toggleable__label {background-color: #d4ebff;}#sk-container-id-1 div.sk-label input.sk-toggleable__control:checked~label.sk-toggleable__label {background-color: #d4ebff;}#sk-container-id-1 input.sk-hidden--visually {border: 0;clip: rect(1px 1px 1px 1px);clip: rect(1px, 1px, 1px, 1px);height: 1px;margin: -1px;overflow: hidden;padding: 0;position: absolute;width: 1px;}#sk-container-id-1 div.sk-estimator {font-family: monospace;background-color: #f0f8ff;border: 1px dotted black;border-radius: 0.25em;box-sizing: border-box;margin-bottom: 0.5em;}#sk-container-id-1 div.sk-estimator:hover {background-color: #d4ebff;}#sk-container-id-1 div.sk-parallel-item::after {content: \"\";width: 100%;border-bottom: 1px solid gray;flex-grow: 1;}#sk-container-id-1 div.sk-label:hover label.sk-toggleable__label {background-color: #d4ebff;}#sk-container-id-1 div.sk-serial::before {content: \"\";position: absolute;border-left: 1px solid gray;box-sizing: border-box;top: 0;bottom: 0;left: 50%;z-index: 0;}#sk-container-id-1 div.sk-serial {display: flex;flex-direction: column;align-items: center;background-color: white;padding-right: 0.2em;padding-left: 0.2em;position: relative;}#sk-container-id-1 div.sk-item {position: relative;z-index: 1;}#sk-container-id-1 div.sk-parallel {display: flex;align-items: stretch;justify-content: center;background-color: white;position: relative;}#sk-container-id-1 div.sk-item::before, #sk-container-id-1 div.sk-parallel-item::before {content: \"\";position: absolute;border-left: 1px solid gray;box-sizing: border-box;top: 0;bottom: 0;left: 50%;z-index: -1;}#sk-container-id-1 div.sk-parallel-item {display: flex;flex-direction: column;z-index: 1;position: relative;background-color: white;}#sk-container-id-1 div.sk-parallel-item:first-child::after {align-self: flex-end;width: 50%;}#sk-container-id-1 div.sk-parallel-item:last-child::after {align-self: flex-start;width: 50%;}#sk-container-id-1 div.sk-parallel-item:only-child::after {width: 0;}#sk-container-id-1 div.sk-dashed-wrapped {border: 1px dashed gray;margin: 0 0.4em 0.5em 0.4em;box-sizing: border-box;padding-bottom: 0.4em;background-color: white;}#sk-container-id-1 div.sk-label label {font-family: monospace;font-weight: bold;display: inline-block;line-height: 1.2em;}#sk-container-id-1 div.sk-label-container {text-align: center;}#sk-container-id-1 div.sk-container {/* jupyter's `normalize.less` sets `[hidden] { display: none; }` but bootstrap.min.css set `[hidden] { display: none !important; }` so we also need the `!important` here to be able to override the default hidden behavior on the sphinx rendered scikit-learn.org. See: https://github.com/scikit-learn/scikit-learn/issues/21755 */display: inline-block !important;position: relative;}#sk-container-id-1 div.sk-text-repr-fallback {display: none;}</style><div id=\"sk-container-id-1\" class=\"sk-top-container\"><div class=\"sk-text-repr-fallback\"><pre>GridSearchCV(cv=3,\n",
              "             estimator=&lt;catboost.core.CatBoostRegressor object at 0x7d8058bd82b0&gt;,\n",
              "             n_jobs=-1,\n",
              "             param_grid={&#x27;depth&#x27;: [4, 6, 8, 10],\n",
              "                         &#x27;iterations&#x27;: [500, 1000, 1500],\n",
              "                         &#x27;l2_leaf_reg&#x27;: [1, 3, 5, 7, 9],\n",
              "                         &#x27;learning_rate&#x27;: [0.01, 0.05, 0.1]},\n",
              "             scoring=&#x27;neg_mean_squared_error&#x27;, verbose=2)</pre><b>In a Jupyter environment, please rerun this cell to show the HTML representation or trust the notebook. <br />On GitHub, the HTML representation is unable to render, please try loading this page with nbviewer.org.</b></div><div class=\"sk-container\" hidden><div class=\"sk-item sk-dashed-wrapped\"><div class=\"sk-label-container\"><div class=\"sk-label sk-toggleable\"><input class=\"sk-toggleable__control sk-hidden--visually\" id=\"sk-estimator-id-1\" type=\"checkbox\" ><label for=\"sk-estimator-id-1\" class=\"sk-toggleable__label sk-toggleable__label-arrow\">GridSearchCV</label><div class=\"sk-toggleable__content\"><pre>GridSearchCV(cv=3,\n",
              "             estimator=&lt;catboost.core.CatBoostRegressor object at 0x7d8058bd82b0&gt;,\n",
              "             n_jobs=-1,\n",
              "             param_grid={&#x27;depth&#x27;: [4, 6, 8, 10],\n",
              "                         &#x27;iterations&#x27;: [500, 1000, 1500],\n",
              "                         &#x27;l2_leaf_reg&#x27;: [1, 3, 5, 7, 9],\n",
              "                         &#x27;learning_rate&#x27;: [0.01, 0.05, 0.1]},\n",
              "             scoring=&#x27;neg_mean_squared_error&#x27;, verbose=2)</pre></div></div></div><div class=\"sk-parallel\"><div class=\"sk-parallel-item\"><div class=\"sk-item\"><div class=\"sk-label-container\"><div class=\"sk-label sk-toggleable\"><input class=\"sk-toggleable__control sk-hidden--visually\" id=\"sk-estimator-id-2\" type=\"checkbox\" ><label for=\"sk-estimator-id-2\" class=\"sk-toggleable__label sk-toggleable__label-arrow\">estimator: CatBoostRegressor</label><div class=\"sk-toggleable__content\"><pre>&lt;catboost.core.CatBoostRegressor object at 0x7d8058bd82b0&gt;</pre></div></div></div><div class=\"sk-serial\"><div class=\"sk-item\"><div class=\"sk-estimator sk-toggleable\"><input class=\"sk-toggleable__control sk-hidden--visually\" id=\"sk-estimator-id-3\" type=\"checkbox\" ><label for=\"sk-estimator-id-3\" class=\"sk-toggleable__label sk-toggleable__label-arrow\">CatBoostRegressor</label><div class=\"sk-toggleable__content\"><pre>&lt;catboost.core.CatBoostRegressor object at 0x7d8058bd82b0&gt;</pre></div></div></div></div></div></div></div></div></div></div>"
            ]
          },
          "metadata": {},
          "execution_count": 11
        }
      ],
      "source": [
        "# Define the CatBoost model with hyperparameter tuning\n",
        "model = CatBoostRegressor(loss_function='RMSE', logging_level='Silent')\n",
        "\n",
        "param_grid = {\n",
        "    'iterations': [500, 1000, 1500],\n",
        "    'depth': [4, 6, 8, 10],\n",
        "    'learning_rate': [0.01, 0.05, 0.1],\n",
        "    'l2_leaf_reg': [1, 3, 5, 7, 9]\n",
        "}\n",
        "grid_search = GridSearchCV(estimator=model, param_grid=param_grid, cv=3, scoring='neg_mean_squared_error', n_jobs=-1, verbose=2)\n",
        "grid_search.fit(X_train_split, y_train_split)"
      ]
    },
    {
      "cell_type": "code",
      "execution_count": 12,
      "metadata": {
        "id": "dSVQdgym-Iar"
      },
      "outputs": [],
      "source": [
        "# Best model from grid search\n",
        "best_model = grid_search.best_estimator_"
      ]
    },
    {
      "cell_type": "code",
      "execution_count": 13,
      "metadata": {
        "id": "msPHqGj1-Jte"
      },
      "outputs": [],
      "source": [
        "# Evaluate model performance\n",
        "y_pred = best_model.predict(X_test)"
      ]
    },
    {
      "cell_type": "code",
      "execution_count": 14,
      "metadata": {
        "colab": {
          "base_uri": "https://localhost:8080/"
        },
        "id": "GQ4c3Xek-LXZ",
        "outputId": "efb26b10-a76c-472d-c25c-4dfce2e375b2"
      },
      "outputs": [
        {
          "output_type": "stream",
          "name": "stdout",
          "text": [
            "Custom Accuracy: 0.6819\n"
          ]
        }
      ],
      "source": [
        "# Calculate custom accuracy\n",
        "def custom_accuracy(y_true, y_pred):\n",
        "    return np.mean(1 - np.abs((y_true - y_pred) / y_true))\n",
        "\n",
        "accuracy = custom_accuracy(y_test.values, y_pred)\n",
        "print(f'Custom Accuracy: {accuracy:.4f}')"
      ]
    },
    {
      "cell_type": "code",
      "execution_count": 15,
      "metadata": {
        "colab": {
          "base_uri": "https://localhost:8080/"
        },
        "id": "XtMHm8TO-Nwa",
        "outputId": "8950466e-b2a4-47ea-ba85-c0c3dc780104"
      },
      "outputs": [
        {
          "output_type": "stream",
          "name": "stdout",
          "text": [
            "Mean Absolute Error (MAE): 362.78\n",
            "Mean Squared Error (MSE): 136530.45\n",
            "Root Mean Squared Error (RMSE): 369.50\n"
          ]
        }
      ],
      "source": [
        "# Evaluate using standard metrics\n",
        "mae = mean_absolute_error(y_test, y_pred)\n",
        "mse = mean_squared_error(y_test, y_pred)\n",
        "rmse = np.sqrt(mse)\n",
        "print(f'Mean Absolute Error (MAE): {mae:.2f}')\n",
        "print(f'Mean Squared Error (MSE): {mse:.2f}')\n",
        "print(f'Root Mean Squared Error (RMSE): {rmse:.2f}')"
      ]
    },
    {
      "cell_type": "code",
      "execution_count": 16,
      "metadata": {
        "colab": {
          "base_uri": "https://localhost:8080/",
          "height": 545
        },
        "id": "4cViMs5P-RSn",
        "outputId": "c1f4cf2f-8d52-4689-91bb-4d91afeb393e"
      },
      "outputs": [
        {
          "output_type": "display_data",
          "data": {
            "text/plain": [
              "<Figure size 1200x600 with 1 Axes>"
            ],
            "image/png": "[encoded data removed]"
          },
          "metadata": {}
        }
      ],
      "source": [
        "# Plot feature importance (optional)\n",
        "feature_importances = best_model.get_feature_importance()\n",
        "features = X_train.columns\n",
        "plt.figure(figsize=(12, 6))\n",
        "sns.barplot(x=feature_importances, y=features)\n",
        "plt.title('Feature Importance')\n",
        "plt.show()"
      ]
    },
    {
      "cell_type": "code",
      "execution_count": 17,
      "metadata": {
        "id": "q_obyVWy-TEq"
      },
      "outputs": [],
      "source": [
        "# Function to make predictions with new input data\n",
        "def predict_new(input_data):\n",
        "    input_df = pd.DataFrame(input_data, index=[0])\n",
        "    prediction = best_model.predict(input_df)\n",
        "    return prediction[0]"
      ]
    },
    {
      "cell_type": "code",
      "execution_count": 18,
      "metadata": {
        "colab": {
          "base_uri": "https://localhost:8080/"
        },
        "id": "Sycgv2n1YXK4",
        "outputId": "9cba8f8f-c5f3-4281-b25a-2d38e5ba14c4"
      },
      "outputs": [
        {
          "output_type": "stream",
          "name": "stdout",
          "text": [
            "Predicted Close Price: 769.62\n"
          ]
        }
      ],
      "source": [
        "# Example input data\n",
        "new_input = {\n",
        "    'Open': 1500,\n",
        "    'High': 1520,\n",
        "    'Low': 1480,\n",
        "    'Volume': 1200000,\n",
        "    'SMA_10': 1510,  # Example values for new features\n",
        "    'SMA_50': 1490,  # Example values for new features\n",
        "    'EMA_10': 1505,  # Example values for new features\n",
        "    'EMA_50': 1485,  # Example values for new features\n",
        "    'Price_Range': 40,  # Example values for new features\n",
        "    'Price_Change': 20,  # Example values for new features\n",
        "    'Rolling_STD_10': 5,  # Example values for new features\n",
        "    'Rolling_STD_50': 10  # Example values for new features\n",
        "}\n",
        "\n",
        "# Make a prediction with the new input data\n",
        "predicted_close = predict_new(new_input)\n",
        "print(f'Predicted Close Price: {predicted_close:.2f}')"
      ]
    }
  ],
  "metadata": {
    "colab": {
      "provenance": []
    },
    "kernelspec": {
      "display_name": "Python 3",
      "name": "python3"
    },
    "language_info": {
      "name": "python"
    }
  },
  "nbformat": 4,
  "nbformat_minor": 0
}