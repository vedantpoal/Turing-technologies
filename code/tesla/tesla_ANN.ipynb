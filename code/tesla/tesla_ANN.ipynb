{
  "nbformat": 4,
  "nbformat_minor": 0,
  "metadata": {
    "colab": {
      "provenance": []
    },
    "kernelspec": {
      "name": "python3",
      "display_name": "Python 3"
    },
    "language_info": {
      "name": "python"
    }
  },
  "cells": [
    {
      "cell_type": "code",
      "source": [
        "import pandas as pd\n",
        "import numpy as np\n",
        "from sklearn.model_selection import train_test_split\n",
        "from sklearn.preprocessing import StandardScaler\n",
        "from tensorflow.keras.models import Sequential\n",
        "from tensorflow.keras.layers import Dense\n",
        "from sklearn.metrics import mean_absolute_error, mean_squared_error, r2_score"
      ],
      "metadata": {
        "id": "DWrssLI6uMU9"
      },
      "execution_count": 2,
      "outputs": []
    },
    {
      "cell_type": "code",
      "source": [
        "data = pd.read_csv('/content/drive/MyDrive/datasets/tesla.csv')"
      ],
      "metadata": {
        "id": "vcThOBaLuMRl"
      },
      "execution_count": 3,
      "outputs": []
    },
    {
      "cell_type": "code",
      "source": [
        "print(data.head())"
      ],
      "metadata": {
        "colab": {
          "base_uri": "https://localhost:8080/"
        },
        "id": "RidfLsMquMOY",
        "outputId": "ddcefdbb-a1eb-4d1a-c1bf-580ccc2b5b6a"
      },
      "execution_count": 4,
      "outputs": [
        {
          "output_type": "stream",
          "name": "stdout",
          "text": [
            "         Date       Open   High        Low      Close  Adj Close    Volume\n",
            "0  29-06-2010  19.000000  25.00  17.540001  23.889999  23.889999  18766300\n",
            "1  30-06-2010  25.790001  30.42  23.299999  23.830000  23.830000  17187100\n",
            "2  01-07-2010  25.000000  25.92  20.270000  21.959999  21.959999   8218800\n",
            "3  02-07-2010  23.000000  23.10  18.709999  19.200001  19.200001   5139800\n",
            "4  06-07-2010  20.000000  20.00  15.830000  16.110001  16.110001   6866900\n"
          ]
        }
      ]
    },
    {
      "cell_type": "code",
      "source": [
        "data = data.dropna()"
      ],
      "metadata": {
        "id": "dKPEZz2tuMLr"
      },
      "execution_count": 5,
      "outputs": []
    },
    {
      "cell_type": "code",
      "source": [
        "X = data[['Open', 'High', 'Low', 'Adj Close', 'Volume']]\n",
        "y = data['Close']"
      ],
      "metadata": {
        "id": "BImUJ-eiuMIs"
      },
      "execution_count": 6,
      "outputs": []
    },
    {
      "cell_type": "code",
      "source": [
        "scaler = StandardScaler()\n",
        "X_scaled = scaler.fit_transform(X)"
      ],
      "metadata": {
        "id": "suer9c96uMFo"
      },
      "execution_count": 7,
      "outputs": []
    },
    {
      "cell_type": "code",
      "source": [
        "X_train, X_test, y_train, y_test = train_test_split(X_scaled, y, test_size=0.2, random_state=42)"
      ],
      "metadata": {
        "id": "FzMKI2LbuMCZ"
      },
      "execution_count": 8,
      "outputs": []
    },
    {
      "cell_type": "code",
      "source": [
        "model = Sequential()\n",
        "model.add(Dense(64, input_dim=X_train.shape[1], activation='relu'))\n",
        "model.add(Dense(32, activation='relu'))\n",
        "model.add(Dense(16, activation='relu'))\n",
        "model.add(Dense(1))"
      ],
      "metadata": {
        "id": "-LzBTfYduL_i"
      },
      "execution_count": 9,
      "outputs": []
    },
    {
      "cell_type": "code",
      "source": [
        "model.compile(optimizer='adam', loss='mean_squared_error')"
      ],
      "metadata": {
        "id": "Y-Q3_PGruL8W"
      },
      "execution_count": 10,
      "outputs": []
    },
    {
      "cell_type": "code",
      "source": [
        "model.fit(X_train, y_train, epochs=100, batch_size=32, validation_split=0.2)"
      ],
      "metadata": {
        "colab": {
          "base_uri": "https://localhost:8080/"
        },
        "id": "126m47TZuL5M",
        "outputId": "4d13852a-1062-4246-95d8-0bd25e9b3a47"
      },
      "execution_count": 11,
      "outputs": [
        {
          "output_type": "stream",
          "name": "stdout",
          "text": [
            "Epoch 1/100\n",
            "44/44 [==============================] - 1s 7ms/step - loss: 43280.7773 - val_loss: 46598.1602\n",
            "Epoch 2/100\n",
            "44/44 [==============================] - 0s 4ms/step - loss: 40023.3945 - val_loss: 38472.6016\n",
            "Epoch 3/100\n",
            "44/44 [==============================] - 0s 5ms/step - loss: 24108.9258 - val_loss: 10886.3369\n",
            "Epoch 4/100\n",
            "44/44 [==============================] - 0s 6ms/step - loss: 4189.6362 - val_loss: 2742.8398\n",
            "Epoch 5/100\n",
            "44/44 [==============================] - 0s 6ms/step - loss: 2063.3291 - val_loss: 1878.3556\n",
            "Epoch 6/100\n",
            "44/44 [==============================] - 0s 5ms/step - loss: 1476.3866 - val_loss: 1303.3546\n",
            "Epoch 7/100\n",
            "44/44 [==============================] - 0s 7ms/step - loss: 1008.8658 - val_loss: 859.5517\n",
            "Epoch 8/100\n",
            "44/44 [==============================] - 0s 6ms/step - loss: 644.0558 - val_loss: 515.5973\n",
            "Epoch 9/100\n",
            "44/44 [==============================] - 0s 6ms/step - loss: 394.2324 - val_loss: 313.7831\n",
            "Epoch 10/100\n",
            "44/44 [==============================] - 0s 4ms/step - loss: 250.3386 - val_loss: 207.5183\n",
            "Epoch 11/100\n",
            "44/44 [==============================] - 0s 5ms/step - loss: 175.6958 - val_loss: 154.1158\n",
            "Epoch 12/100\n",
            "44/44 [==============================] - 0s 4ms/step - loss: 134.3070 - val_loss: 120.8775\n",
            "Epoch 13/100\n",
            "44/44 [==============================] - 0s 5ms/step - loss: 107.0327 - val_loss: 97.5610\n",
            "Epoch 14/100\n",
            "44/44 [==============================] - 0s 6ms/step - loss: 86.9858 - val_loss: 80.3628\n",
            "Epoch 15/100\n",
            "44/44 [==============================] - 0s 5ms/step - loss: 71.3783 - val_loss: 67.4451\n",
            "Epoch 16/100\n",
            "44/44 [==============================] - 0s 5ms/step - loss: 59.6169 - val_loss: 56.3011\n",
            "Epoch 17/100\n",
            "44/44 [==============================] - 0s 5ms/step - loss: 49.5187 - val_loss: 47.4612\n",
            "Epoch 18/100\n",
            "44/44 [==============================] - 0s 3ms/step - loss: 42.4914 - val_loss: 41.3493\n",
            "Epoch 19/100\n",
            "44/44 [==============================] - 0s 4ms/step - loss: 36.7047 - val_loss: 37.7377\n",
            "Epoch 20/100\n",
            "44/44 [==============================] - 0s 5ms/step - loss: 32.4909 - val_loss: 32.3380\n",
            "Epoch 21/100\n",
            "44/44 [==============================] - 0s 5ms/step - loss: 29.1110 - val_loss: 29.7683\n",
            "Epoch 22/100\n",
            "44/44 [==============================] - 0s 4ms/step - loss: 25.5761 - val_loss: 26.7364\n",
            "Epoch 23/100\n",
            "44/44 [==============================] - 0s 4ms/step - loss: 23.1169 - val_loss: 24.9596\n",
            "Epoch 24/100\n",
            "44/44 [==============================] - 0s 3ms/step - loss: 21.2682 - val_loss: 22.4152\n",
            "Epoch 25/100\n",
            "44/44 [==============================] - 0s 4ms/step - loss: 19.3566 - val_loss: 20.6312\n",
            "Epoch 26/100\n",
            "44/44 [==============================] - 0s 5ms/step - loss: 17.9431 - val_loss: 18.8233\n",
            "Epoch 27/100\n",
            "44/44 [==============================] - 0s 4ms/step - loss: 16.5808 - val_loss: 17.7290\n",
            "Epoch 28/100\n",
            "44/44 [==============================] - 0s 3ms/step - loss: 15.3678 - val_loss: 16.2355\n",
            "Epoch 29/100\n",
            "44/44 [==============================] - 0s 3ms/step - loss: 14.1940 - val_loss: 15.6765\n",
            "Epoch 30/100\n",
            "44/44 [==============================] - 0s 3ms/step - loss: 13.1741 - val_loss: 14.2627\n",
            "Epoch 31/100\n",
            "44/44 [==============================] - 0s 3ms/step - loss: 12.3756 - val_loss: 13.5748\n",
            "Epoch 32/100\n",
            "44/44 [==============================] - 0s 4ms/step - loss: 11.8861 - val_loss: 12.7800\n",
            "Epoch 33/100\n",
            "44/44 [==============================] - 0s 4ms/step - loss: 11.1444 - val_loss: 12.1674\n",
            "Epoch 34/100\n",
            "44/44 [==============================] - 0s 4ms/step - loss: 10.5955 - val_loss: 11.6632\n",
            "Epoch 35/100\n",
            "44/44 [==============================] - 0s 4ms/step - loss: 10.3507 - val_loss: 11.2950\n",
            "Epoch 36/100\n",
            "44/44 [==============================] - 0s 4ms/step - loss: 9.7678 - val_loss: 10.6115\n",
            "Epoch 37/100\n",
            "44/44 [==============================] - 0s 4ms/step - loss: 9.3475 - val_loss: 10.6620\n",
            "Epoch 38/100\n",
            "44/44 [==============================] - 0s 6ms/step - loss: 9.1956 - val_loss: 10.0315\n",
            "Epoch 39/100\n",
            "44/44 [==============================] - 0s 5ms/step - loss: 8.6136 - val_loss: 9.4945\n",
            "Epoch 40/100\n",
            "44/44 [==============================] - 0s 6ms/step - loss: 8.2899 - val_loss: 9.1514\n",
            "Epoch 41/100\n",
            "44/44 [==============================] - 0s 8ms/step - loss: 8.0808 - val_loss: 9.2484\n",
            "Epoch 42/100\n",
            "44/44 [==============================] - 0s 7ms/step - loss: 7.8462 - val_loss: 8.5918\n",
            "Epoch 43/100\n",
            "44/44 [==============================] - 0s 5ms/step - loss: 7.6189 - val_loss: 8.3085\n",
            "Epoch 44/100\n",
            "44/44 [==============================] - 0s 6ms/step - loss: 7.3399 - val_loss: 8.0243\n",
            "Epoch 45/100\n",
            "44/44 [==============================] - 0s 6ms/step - loss: 7.1235 - val_loss: 7.9462\n",
            "Epoch 46/100\n",
            "44/44 [==============================] - 0s 5ms/step - loss: 6.8975 - val_loss: 7.5594\n",
            "Epoch 47/100\n",
            "44/44 [==============================] - 0s 4ms/step - loss: 6.7408 - val_loss: 7.4381\n",
            "Epoch 48/100\n",
            "44/44 [==============================] - 0s 6ms/step - loss: 6.6503 - val_loss: 7.4866\n",
            "Epoch 49/100\n",
            "44/44 [==============================] - 0s 5ms/step - loss: 6.3874 - val_loss: 7.1733\n",
            "Epoch 50/100\n",
            "44/44 [==============================] - 0s 4ms/step - loss: 6.1926 - val_loss: 7.0904\n",
            "Epoch 51/100\n",
            "44/44 [==============================] - 0s 4ms/step - loss: 6.2118 - val_loss: 6.6474\n",
            "Epoch 52/100\n",
            "44/44 [==============================] - 0s 6ms/step - loss: 5.7770 - val_loss: 6.4736\n",
            "Epoch 53/100\n",
            "44/44 [==============================] - 0s 5ms/step - loss: 5.6635 - val_loss: 6.3505\n",
            "Epoch 54/100\n",
            "44/44 [==============================] - 0s 7ms/step - loss: 5.5975 - val_loss: 6.7441\n",
            "Epoch 55/100\n",
            "44/44 [==============================] - 0s 7ms/step - loss: 5.5891 - val_loss: 6.0744\n",
            "Epoch 56/100\n",
            "44/44 [==============================] - 0s 7ms/step - loss: 5.1956 - val_loss: 5.9346\n",
            "Epoch 57/100\n",
            "44/44 [==============================] - 0s 6ms/step - loss: 5.0295 - val_loss: 5.9099\n",
            "Epoch 58/100\n",
            "44/44 [==============================] - 0s 5ms/step - loss: 4.9363 - val_loss: 5.5969\n",
            "Epoch 59/100\n",
            "44/44 [==============================] - 0s 7ms/step - loss: 4.8411 - val_loss: 5.7548\n",
            "Epoch 60/100\n",
            "44/44 [==============================] - 0s 5ms/step - loss: 4.8848 - val_loss: 5.4502\n",
            "Epoch 61/100\n",
            "44/44 [==============================] - 0s 6ms/step - loss: 4.9700 - val_loss: 5.3399\n",
            "Epoch 62/100\n",
            "44/44 [==============================] - 0s 5ms/step - loss: 4.4536 - val_loss: 5.2835\n",
            "Epoch 63/100\n",
            "44/44 [==============================] - 0s 5ms/step - loss: 4.3887 - val_loss: 5.0712\n",
            "Epoch 64/100\n",
            "44/44 [==============================] - 0s 5ms/step - loss: 4.2607 - val_loss: 4.8952\n",
            "Epoch 65/100\n",
            "44/44 [==============================] - 0s 5ms/step - loss: 4.2864 - val_loss: 4.9190\n",
            "Epoch 66/100\n",
            "44/44 [==============================] - 0s 5ms/step - loss: 4.0402 - val_loss: 4.6535\n",
            "Epoch 67/100\n",
            "44/44 [==============================] - 0s 5ms/step - loss: 3.9439 - val_loss: 4.5994\n",
            "Epoch 68/100\n",
            "44/44 [==============================] - 0s 6ms/step - loss: 3.8022 - val_loss: 4.5353\n",
            "Epoch 69/100\n",
            "44/44 [==============================] - 0s 6ms/step - loss: 3.7022 - val_loss: 4.3617\n",
            "Epoch 70/100\n",
            "44/44 [==============================] - 0s 6ms/step - loss: 3.7553 - val_loss: 4.3353\n",
            "Epoch 71/100\n",
            "44/44 [==============================] - 0s 5ms/step - loss: 3.4833 - val_loss: 4.2702\n",
            "Epoch 72/100\n",
            "44/44 [==============================] - 0s 5ms/step - loss: 3.3245 - val_loss: 3.9543\n",
            "Epoch 73/100\n",
            "44/44 [==============================] - 0s 6ms/step - loss: 3.3420 - val_loss: 3.9500\n",
            "Epoch 74/100\n",
            "44/44 [==============================] - 0s 5ms/step - loss: 3.3302 - val_loss: 3.8344\n",
            "Epoch 75/100\n",
            "44/44 [==============================] - 0s 5ms/step - loss: 3.2668 - val_loss: 4.1006\n",
            "Epoch 76/100\n",
            "44/44 [==============================] - 0s 5ms/step - loss: 3.0450 - val_loss: 3.6528\n",
            "Epoch 77/100\n",
            "44/44 [==============================] - 0s 5ms/step - loss: 2.9021 - val_loss: 3.6674\n",
            "Epoch 78/100\n",
            "44/44 [==============================] - 0s 4ms/step - loss: 2.9561 - val_loss: 3.3945\n",
            "Epoch 79/100\n",
            "44/44 [==============================] - 0s 4ms/step - loss: 2.7902 - val_loss: 4.8244\n",
            "Epoch 80/100\n",
            "44/44 [==============================] - 0s 4ms/step - loss: 2.6926 - val_loss: 3.6722\n",
            "Epoch 81/100\n",
            "44/44 [==============================] - 0s 4ms/step - loss: 2.6447 - val_loss: 3.2065\n",
            "Epoch 82/100\n",
            "44/44 [==============================] - 0s 4ms/step - loss: 2.4594 - val_loss: 3.0242\n",
            "Epoch 83/100\n",
            "44/44 [==============================] - 0s 4ms/step - loss: 2.3498 - val_loss: 2.9498\n",
            "Epoch 84/100\n",
            "44/44 [==============================] - 0s 4ms/step - loss: 2.3103 - val_loss: 2.8388\n",
            "Epoch 85/100\n",
            "44/44 [==============================] - 0s 4ms/step - loss: 2.3694 - val_loss: 3.0767\n",
            "Epoch 86/100\n",
            "44/44 [==============================] - 0s 5ms/step - loss: 2.3856 - val_loss: 3.0231\n",
            "Epoch 87/100\n",
            "44/44 [==============================] - 0s 6ms/step - loss: 2.2174 - val_loss: 2.7158\n",
            "Epoch 88/100\n",
            "44/44 [==============================] - 0s 5ms/step - loss: 2.1700 - val_loss: 2.5165\n",
            "Epoch 89/100\n",
            "44/44 [==============================] - 0s 5ms/step - loss: 2.0195 - val_loss: 2.5018\n",
            "Epoch 90/100\n",
            "44/44 [==============================] - 0s 7ms/step - loss: 1.9454 - val_loss: 2.3746\n",
            "Epoch 91/100\n",
            "44/44 [==============================] - 0s 8ms/step - loss: 2.0839 - val_loss: 2.7384\n",
            "Epoch 92/100\n",
            "44/44 [==============================] - 0s 5ms/step - loss: 1.7756 - val_loss: 2.2827\n",
            "Epoch 93/100\n",
            "44/44 [==============================] - 0s 5ms/step - loss: 1.7597 - val_loss: 2.4067\n",
            "Epoch 94/100\n",
            "44/44 [==============================] - 0s 6ms/step - loss: 1.7655 - val_loss: 2.2254\n",
            "Epoch 95/100\n",
            "44/44 [==============================] - 0s 6ms/step - loss: 1.6279 - val_loss: 2.0276\n",
            "Epoch 96/100\n",
            "44/44 [==============================] - 0s 4ms/step - loss: 1.6638 - val_loss: 2.0793\n",
            "Epoch 97/100\n",
            "44/44 [==============================] - 0s 3ms/step - loss: 1.6385 - val_loss: 1.9859\n",
            "Epoch 98/100\n",
            "44/44 [==============================] - 0s 4ms/step - loss: 1.5071 - val_loss: 2.0452\n",
            "Epoch 99/100\n",
            "44/44 [==============================] - 0s 4ms/step - loss: 1.5494 - val_loss: 1.7948\n",
            "Epoch 100/100\n",
            "44/44 [==============================] - 0s 4ms/step - loss: 1.4131 - val_loss: 1.8700\n"
          ]
        },
        {
          "output_type": "execute_result",
          "data": {
            "text/plain": [
              "<keras.src.callbacks.History at 0x7db47c407ee0>"
            ]
          },
          "metadata": {},
          "execution_count": 11
        }
      ]
    },
    {
      "cell_type": "code",
      "source": [
        "y_pred = model.predict(X_test)"
      ],
      "metadata": {
        "colab": {
          "base_uri": "https://localhost:8080/"
        },
        "id": "zr0Mqa7VukzL",
        "outputId": "94c7ec5f-7d7d-4cc2-9e55-1163cf8f8dd3"
      },
      "execution_count": 12,
      "outputs": [
        {
          "output_type": "stream",
          "name": "stdout",
          "text": [
            "14/14 [==============================] - 0s 2ms/step\n"
          ]
        }
      ]
    },
    {
      "cell_type": "code",
      "source": [
        "mae = mean_absolute_error(y_test, y_pred)\n",
        "mse = mean_squared_error(y_test, y_pred)\n",
        "r2 = r2_score(y_test, y_pred)"
      ],
      "metadata": {
        "id": "YSQ6v9g3ukvu"
      },
      "execution_count": 13,
      "outputs": []
    },
    {
      "cell_type": "code",
      "source": [
        "print(f'Mean Absolute Error (MAE): {mae}')\n",
        "print(f'Mean Squared Error (MSE): {mse}')\n",
        "print(f'R-squared (R2): {r2}')"
      ],
      "metadata": {
        "colab": {
          "base_uri": "https://localhost:8080/"
        },
        "id": "tBbcIfikuo-d",
        "outputId": "ea38d248-c0dd-4ce8-a1c4-72a5e28867d0"
      },
      "execution_count": 14,
      "outputs": [
        {
          "output_type": "stream",
          "name": "stdout",
          "text": [
            "Mean Absolute Error (MAE): 0.9274899793431453\n",
            "Mean Squared Error (MSE): 1.600548310985277\n",
            "R-squared (R2): 0.9998798571214442\n"
          ]
        }
      ]
    },
    {
      "cell_type": "code",
      "source": [
        "new_data = pd.DataFrame({\n",
        "    'Open': [300],\n",
        "    'High': [310],\n",
        "    'Low': [295],\n",
        "    'Adj Close': [305],\n",
        "    'Volume': [1000000]\n",
        "})\n",
        "new_data_scaled = scaler.transform(new_data)\n",
        "new_prediction = model.predict(new_data_scaled)\n",
        "print(f'Predicted Close Price: {new_prediction[0][0]}')"
      ],
      "metadata": {
        "colab": {
          "base_uri": "https://localhost:8080/"
        },
        "id": "m364gtGgusWI",
        "outputId": "4cf84799-5599-4745-84be-0bdd42d1d245"
      },
      "execution_count": 15,
      "outputs": [
        {
          "output_type": "stream",
          "name": "stdout",
          "text": [
            "1/1 [==============================] - 0s 26ms/step\n",
            "Predicted Close Price: 303.8844299316406\n"
          ]
        }
      ]
    }
  ]
}